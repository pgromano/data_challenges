{
 "cells": [
  {
   "cell_type": "code",
   "execution_count": 1,
   "metadata": {},
   "outputs": [],
   "source": [
    "import numpy as np\n",
    "import pandas as pd\n",
    "from scipy import stats\n",
    "import matplotlib.pyplot as plt\n",
    "plt.style.use('ggplot')"
   ]
  },
  {
   "cell_type": "code",
   "execution_count": 362,
   "metadata": {},
   "outputs": [],
   "source": [
    "data = pd.read_csv('Data/redcard.csv')"
   ]
  },
  {
   "cell_type": "code",
   "execution_count": 363,
   "metadata": {},
   "outputs": [
    {
     "data": {
      "text/html": [
       "<div>\n",
       "<style scoped>\n",
       "    .dataframe tbody tr th:only-of-type {\n",
       "        vertical-align: middle;\n",
       "    }\n",
       "\n",
       "    .dataframe tbody tr th {\n",
       "        vertical-align: top;\n",
       "    }\n",
       "\n",
       "    .dataframe thead th {\n",
       "        text-align: right;\n",
       "    }\n",
       "</style>\n",
       "<table border=\"1\" class=\"dataframe\">\n",
       "  <thead>\n",
       "    <tr style=\"text-align: right;\">\n",
       "      <th></th>\n",
       "      <th>playerShort</th>\n",
       "      <th>player</th>\n",
       "      <th>club</th>\n",
       "      <th>leagueCountry</th>\n",
       "      <th>birthday</th>\n",
       "      <th>height</th>\n",
       "      <th>weight</th>\n",
       "      <th>position</th>\n",
       "      <th>games</th>\n",
       "      <th>victories</th>\n",
       "      <th>...</th>\n",
       "      <th>rater2</th>\n",
       "      <th>refNum</th>\n",
       "      <th>refCountry</th>\n",
       "      <th>Alpha_3</th>\n",
       "      <th>meanIAT</th>\n",
       "      <th>nIAT</th>\n",
       "      <th>seIAT</th>\n",
       "      <th>meanExp</th>\n",
       "      <th>nExp</th>\n",
       "      <th>seExp</th>\n",
       "    </tr>\n",
       "  </thead>\n",
       "  <tbody>\n",
       "    <tr>\n",
       "      <th>0</th>\n",
       "      <td>lucas-wilchez</td>\n",
       "      <td>Lucas Wilchez</td>\n",
       "      <td>Real Zaragoza</td>\n",
       "      <td>Spain</td>\n",
       "      <td>31.08.1983</td>\n",
       "      <td>177.0</td>\n",
       "      <td>72.0</td>\n",
       "      <td>Attacking Midfielder</td>\n",
       "      <td>1</td>\n",
       "      <td>0</td>\n",
       "      <td>...</td>\n",
       "      <td>0.50</td>\n",
       "      <td>1</td>\n",
       "      <td>1</td>\n",
       "      <td>GRC</td>\n",
       "      <td>0.326391</td>\n",
       "      <td>712.0</td>\n",
       "      <td>0.000564</td>\n",
       "      <td>0.396000</td>\n",
       "      <td>750.0</td>\n",
       "      <td>0.002696</td>\n",
       "    </tr>\n",
       "    <tr>\n",
       "      <th>1</th>\n",
       "      <td>john-utaka</td>\n",
       "      <td>John Utaka</td>\n",
       "      <td>Montpellier HSC</td>\n",
       "      <td>France</td>\n",
       "      <td>08.01.1982</td>\n",
       "      <td>179.0</td>\n",
       "      <td>82.0</td>\n",
       "      <td>Right Winger</td>\n",
       "      <td>1</td>\n",
       "      <td>0</td>\n",
       "      <td>...</td>\n",
       "      <td>0.75</td>\n",
       "      <td>2</td>\n",
       "      <td>2</td>\n",
       "      <td>ZMB</td>\n",
       "      <td>0.203375</td>\n",
       "      <td>40.0</td>\n",
       "      <td>0.010875</td>\n",
       "      <td>-0.204082</td>\n",
       "      <td>49.0</td>\n",
       "      <td>0.061504</td>\n",
       "    </tr>\n",
       "    <tr>\n",
       "      <th>2</th>\n",
       "      <td>abdon-prats</td>\n",
       "      <td>Abdón Prats</td>\n",
       "      <td>RCD Mallorca</td>\n",
       "      <td>Spain</td>\n",
       "      <td>17.12.1992</td>\n",
       "      <td>181.0</td>\n",
       "      <td>79.0</td>\n",
       "      <td>NaN</td>\n",
       "      <td>1</td>\n",
       "      <td>0</td>\n",
       "      <td>...</td>\n",
       "      <td>NaN</td>\n",
       "      <td>3</td>\n",
       "      <td>3</td>\n",
       "      <td>ESP</td>\n",
       "      <td>0.369894</td>\n",
       "      <td>1785.0</td>\n",
       "      <td>0.000229</td>\n",
       "      <td>0.588297</td>\n",
       "      <td>1897.0</td>\n",
       "      <td>0.001002</td>\n",
       "    </tr>\n",
       "    <tr>\n",
       "      <th>3</th>\n",
       "      <td>pablo-mari</td>\n",
       "      <td>Pablo Marí</td>\n",
       "      <td>RCD Mallorca</td>\n",
       "      <td>Spain</td>\n",
       "      <td>31.08.1993</td>\n",
       "      <td>191.0</td>\n",
       "      <td>87.0</td>\n",
       "      <td>Center Back</td>\n",
       "      <td>1</td>\n",
       "      <td>1</td>\n",
       "      <td>...</td>\n",
       "      <td>NaN</td>\n",
       "      <td>3</td>\n",
       "      <td>3</td>\n",
       "      <td>ESP</td>\n",
       "      <td>0.369894</td>\n",
       "      <td>1785.0</td>\n",
       "      <td>0.000229</td>\n",
       "      <td>0.588297</td>\n",
       "      <td>1897.0</td>\n",
       "      <td>0.001002</td>\n",
       "    </tr>\n",
       "    <tr>\n",
       "      <th>4</th>\n",
       "      <td>ruben-pena</td>\n",
       "      <td>Rubén Peña</td>\n",
       "      <td>Real Valladolid</td>\n",
       "      <td>Spain</td>\n",
       "      <td>18.07.1991</td>\n",
       "      <td>172.0</td>\n",
       "      <td>70.0</td>\n",
       "      <td>Right Midfielder</td>\n",
       "      <td>1</td>\n",
       "      <td>1</td>\n",
       "      <td>...</td>\n",
       "      <td>NaN</td>\n",
       "      <td>3</td>\n",
       "      <td>3</td>\n",
       "      <td>ESP</td>\n",
       "      <td>0.369894</td>\n",
       "      <td>1785.0</td>\n",
       "      <td>0.000229</td>\n",
       "      <td>0.588297</td>\n",
       "      <td>1897.0</td>\n",
       "      <td>0.001002</td>\n",
       "    </tr>\n",
       "  </tbody>\n",
       "</table>\n",
       "<p>5 rows × 28 columns</p>\n",
       "</div>"
      ],
      "text/plain": [
       "     playerShort         player             club leagueCountry    birthday  \\\n",
       "0  lucas-wilchez  Lucas Wilchez    Real Zaragoza         Spain  31.08.1983   \n",
       "1     john-utaka     John Utaka  Montpellier HSC        France  08.01.1982   \n",
       "2    abdon-prats    Abdón Prats     RCD Mallorca         Spain  17.12.1992   \n",
       "3     pablo-mari     Pablo Marí     RCD Mallorca         Spain  31.08.1993   \n",
       "4     ruben-pena     Rubén Peña  Real Valladolid         Spain  18.07.1991   \n",
       "\n",
       "   height  weight              position  games  victories    ...     rater2  \\\n",
       "0   177.0    72.0  Attacking Midfielder      1          0    ...       0.50   \n",
       "1   179.0    82.0          Right Winger      1          0    ...       0.75   \n",
       "2   181.0    79.0                   NaN      1          0    ...        NaN   \n",
       "3   191.0    87.0           Center Back      1          1    ...        NaN   \n",
       "4   172.0    70.0      Right Midfielder      1          1    ...        NaN   \n",
       "\n",
       "   refNum  refCountry  Alpha_3   meanIAT    nIAT     seIAT   meanExp    nExp  \\\n",
       "0       1           1      GRC  0.326391   712.0  0.000564  0.396000   750.0   \n",
       "1       2           2      ZMB  0.203375    40.0  0.010875 -0.204082    49.0   \n",
       "2       3           3      ESP  0.369894  1785.0  0.000229  0.588297  1897.0   \n",
       "3       3           3      ESP  0.369894  1785.0  0.000229  0.588297  1897.0   \n",
       "4       3           3      ESP  0.369894  1785.0  0.000229  0.588297  1897.0   \n",
       "\n",
       "      seExp  \n",
       "0  0.002696  \n",
       "1  0.061504  \n",
       "2  0.001002  \n",
       "3  0.001002  \n",
       "4  0.001002  \n",
       "\n",
       "[5 rows x 28 columns]"
      ]
     },
     "execution_count": 363,
     "metadata": {},
     "output_type": "execute_result"
    }
   ],
   "source": [
    "data.head()"
   ]
  },
  {
   "cell_type": "code",
   "execution_count": 364,
   "metadata": {},
   "outputs": [
    {
     "data": {
      "text/html": [
       "<div>\n",
       "<style scoped>\n",
       "    .dataframe tbody tr th:only-of-type {\n",
       "        vertical-align: middle;\n",
       "    }\n",
       "\n",
       "    .dataframe tbody tr th {\n",
       "        vertical-align: top;\n",
       "    }\n",
       "\n",
       "    .dataframe thead th {\n",
       "        text-align: right;\n",
       "    }\n",
       "</style>\n",
       "<table border=\"1\" class=\"dataframe\">\n",
       "  <thead>\n",
       "    <tr style=\"text-align: right;\">\n",
       "      <th></th>\n",
       "      <th>height</th>\n",
       "      <th>weight</th>\n",
       "      <th>games</th>\n",
       "      <th>victories</th>\n",
       "      <th>ties</th>\n",
       "      <th>defeats</th>\n",
       "      <th>goals</th>\n",
       "      <th>yellowCards</th>\n",
       "      <th>yellowReds</th>\n",
       "      <th>redCards</th>\n",
       "      <th>rater1</th>\n",
       "      <th>rater2</th>\n",
       "      <th>refNum</th>\n",
       "      <th>refCountry</th>\n",
       "      <th>meanIAT</th>\n",
       "      <th>nIAT</th>\n",
       "      <th>seIAT</th>\n",
       "      <th>meanExp</th>\n",
       "      <th>nExp</th>\n",
       "      <th>seExp</th>\n",
       "    </tr>\n",
       "  </thead>\n",
       "  <tbody>\n",
       "    <tr>\n",
       "      <th>count</th>\n",
       "      <td>145765.000000</td>\n",
       "      <td>143785.000000</td>\n",
       "      <td>146028.000000</td>\n",
       "      <td>146028.000000</td>\n",
       "      <td>146028.000000</td>\n",
       "      <td>146028.000000</td>\n",
       "      <td>146028.000000</td>\n",
       "      <td>146028.000000</td>\n",
       "      <td>146028.000000</td>\n",
       "      <td>146028.000000</td>\n",
       "      <td>124621.000000</td>\n",
       "      <td>124621.000000</td>\n",
       "      <td>146028.000000</td>\n",
       "      <td>146028.000000</td>\n",
       "      <td>145865.000000</td>\n",
       "      <td>1.458650e+05</td>\n",
       "      <td>1.458650e+05</td>\n",
       "      <td>145865.000000</td>\n",
       "      <td>1.458650e+05</td>\n",
       "      <td>145865.000000</td>\n",
       "    </tr>\n",
       "    <tr>\n",
       "      <th>mean</th>\n",
       "      <td>181.935938</td>\n",
       "      <td>76.075662</td>\n",
       "      <td>2.921166</td>\n",
       "      <td>1.278344</td>\n",
       "      <td>0.708241</td>\n",
       "      <td>0.934581</td>\n",
       "      <td>0.338058</td>\n",
       "      <td>0.385364</td>\n",
       "      <td>0.011381</td>\n",
       "      <td>0.012559</td>\n",
       "      <td>0.264255</td>\n",
       "      <td>0.302862</td>\n",
       "      <td>1534.827444</td>\n",
       "      <td>29.642842</td>\n",
       "      <td>0.346276</td>\n",
       "      <td>1.969741e+04</td>\n",
       "      <td>6.310849e-04</td>\n",
       "      <td>0.452026</td>\n",
       "      <td>2.044023e+04</td>\n",
       "      <td>0.002994</td>\n",
       "    </tr>\n",
       "    <tr>\n",
       "      <th>std</th>\n",
       "      <td>6.738726</td>\n",
       "      <td>7.140906</td>\n",
       "      <td>3.413633</td>\n",
       "      <td>1.790725</td>\n",
       "      <td>1.116793</td>\n",
       "      <td>1.383059</td>\n",
       "      <td>0.906481</td>\n",
       "      <td>0.795333</td>\n",
       "      <td>0.107931</td>\n",
       "      <td>0.112889</td>\n",
       "      <td>0.295382</td>\n",
       "      <td>0.293020</td>\n",
       "      <td>918.736625</td>\n",
       "      <td>27.496189</td>\n",
       "      <td>0.032246</td>\n",
       "      <td>1.271262e+05</td>\n",
       "      <td>4.735857e-03</td>\n",
       "      <td>0.217469</td>\n",
       "      <td>1.306157e+05</td>\n",
       "      <td>0.019723</td>\n",
       "    </tr>\n",
       "    <tr>\n",
       "      <th>min</th>\n",
       "      <td>161.000000</td>\n",
       "      <td>54.000000</td>\n",
       "      <td>1.000000</td>\n",
       "      <td>0.000000</td>\n",
       "      <td>0.000000</td>\n",
       "      <td>0.000000</td>\n",
       "      <td>0.000000</td>\n",
       "      <td>0.000000</td>\n",
       "      <td>0.000000</td>\n",
       "      <td>0.000000</td>\n",
       "      <td>0.000000</td>\n",
       "      <td>0.000000</td>\n",
       "      <td>1.000000</td>\n",
       "      <td>1.000000</td>\n",
       "      <td>-0.047254</td>\n",
       "      <td>2.000000e+00</td>\n",
       "      <td>2.235373e-07</td>\n",
       "      <td>-1.375000</td>\n",
       "      <td>2.000000e+00</td>\n",
       "      <td>0.000001</td>\n",
       "    </tr>\n",
       "    <tr>\n",
       "      <th>25%</th>\n",
       "      <td>177.000000</td>\n",
       "      <td>71.000000</td>\n",
       "      <td>1.000000</td>\n",
       "      <td>0.000000</td>\n",
       "      <td>0.000000</td>\n",
       "      <td>0.000000</td>\n",
       "      <td>0.000000</td>\n",
       "      <td>0.000000</td>\n",
       "      <td>0.000000</td>\n",
       "      <td>0.000000</td>\n",
       "      <td>0.000000</td>\n",
       "      <td>0.000000</td>\n",
       "      <td>641.000000</td>\n",
       "      <td>7.000000</td>\n",
       "      <td>0.334684</td>\n",
       "      <td>1.785000e+03</td>\n",
       "      <td>5.454025e-05</td>\n",
       "      <td>0.336101</td>\n",
       "      <td>1.897000e+03</td>\n",
       "      <td>0.000225</td>\n",
       "    </tr>\n",
       "    <tr>\n",
       "      <th>50%</th>\n",
       "      <td>182.000000</td>\n",
       "      <td>76.000000</td>\n",
       "      <td>2.000000</td>\n",
       "      <td>1.000000</td>\n",
       "      <td>0.000000</td>\n",
       "      <td>1.000000</td>\n",
       "      <td>0.000000</td>\n",
       "      <td>0.000000</td>\n",
       "      <td>0.000000</td>\n",
       "      <td>0.000000</td>\n",
       "      <td>0.250000</td>\n",
       "      <td>0.250000</td>\n",
       "      <td>1604.000000</td>\n",
       "      <td>21.000000</td>\n",
       "      <td>0.336628</td>\n",
       "      <td>2.882000e+03</td>\n",
       "      <td>1.508847e-04</td>\n",
       "      <td>0.356446</td>\n",
       "      <td>3.011000e+03</td>\n",
       "      <td>0.000586</td>\n",
       "    </tr>\n",
       "    <tr>\n",
       "      <th>75%</th>\n",
       "      <td>187.000000</td>\n",
       "      <td>81.000000</td>\n",
       "      <td>3.000000</td>\n",
       "      <td>2.000000</td>\n",
       "      <td>1.000000</td>\n",
       "      <td>1.000000</td>\n",
       "      <td>0.000000</td>\n",
       "      <td>1.000000</td>\n",
       "      <td>0.000000</td>\n",
       "      <td>0.000000</td>\n",
       "      <td>0.250000</td>\n",
       "      <td>0.500000</td>\n",
       "      <td>2345.000000</td>\n",
       "      <td>44.000000</td>\n",
       "      <td>0.369894</td>\n",
       "      <td>7.749000e+03</td>\n",
       "      <td>2.294896e-04</td>\n",
       "      <td>0.588297</td>\n",
       "      <td>7.974000e+03</td>\n",
       "      <td>0.001002</td>\n",
       "    </tr>\n",
       "    <tr>\n",
       "      <th>max</th>\n",
       "      <td>203.000000</td>\n",
       "      <td>100.000000</td>\n",
       "      <td>47.000000</td>\n",
       "      <td>29.000000</td>\n",
       "      <td>14.000000</td>\n",
       "      <td>18.000000</td>\n",
       "      <td>23.000000</td>\n",
       "      <td>14.000000</td>\n",
       "      <td>3.000000</td>\n",
       "      <td>2.000000</td>\n",
       "      <td>1.000000</td>\n",
       "      <td>1.000000</td>\n",
       "      <td>3147.000000</td>\n",
       "      <td>161.000000</td>\n",
       "      <td>0.573793</td>\n",
       "      <td>1.975803e+06</td>\n",
       "      <td>2.862871e-01</td>\n",
       "      <td>1.800000</td>\n",
       "      <td>2.029548e+06</td>\n",
       "      <td>1.060660</td>\n",
       "    </tr>\n",
       "  </tbody>\n",
       "</table>\n",
       "</div>"
      ],
      "text/plain": [
       "              height         weight          games      victories  \\\n",
       "count  145765.000000  143785.000000  146028.000000  146028.000000   \n",
       "mean      181.935938      76.075662       2.921166       1.278344   \n",
       "std         6.738726       7.140906       3.413633       1.790725   \n",
       "min       161.000000      54.000000       1.000000       0.000000   \n",
       "25%       177.000000      71.000000       1.000000       0.000000   \n",
       "50%       182.000000      76.000000       2.000000       1.000000   \n",
       "75%       187.000000      81.000000       3.000000       2.000000   \n",
       "max       203.000000     100.000000      47.000000      29.000000   \n",
       "\n",
       "                ties        defeats          goals    yellowCards  \\\n",
       "count  146028.000000  146028.000000  146028.000000  146028.000000   \n",
       "mean        0.708241       0.934581       0.338058       0.385364   \n",
       "std         1.116793       1.383059       0.906481       0.795333   \n",
       "min         0.000000       0.000000       0.000000       0.000000   \n",
       "25%         0.000000       0.000000       0.000000       0.000000   \n",
       "50%         0.000000       1.000000       0.000000       0.000000   \n",
       "75%         1.000000       1.000000       0.000000       1.000000   \n",
       "max        14.000000      18.000000      23.000000      14.000000   \n",
       "\n",
       "          yellowReds       redCards         rater1         rater2  \\\n",
       "count  146028.000000  146028.000000  124621.000000  124621.000000   \n",
       "mean        0.011381       0.012559       0.264255       0.302862   \n",
       "std         0.107931       0.112889       0.295382       0.293020   \n",
       "min         0.000000       0.000000       0.000000       0.000000   \n",
       "25%         0.000000       0.000000       0.000000       0.000000   \n",
       "50%         0.000000       0.000000       0.250000       0.250000   \n",
       "75%         0.000000       0.000000       0.250000       0.500000   \n",
       "max         3.000000       2.000000       1.000000       1.000000   \n",
       "\n",
       "              refNum     refCountry        meanIAT          nIAT  \\\n",
       "count  146028.000000  146028.000000  145865.000000  1.458650e+05   \n",
       "mean     1534.827444      29.642842       0.346276  1.969741e+04   \n",
       "std       918.736625      27.496189       0.032246  1.271262e+05   \n",
       "min         1.000000       1.000000      -0.047254  2.000000e+00   \n",
       "25%       641.000000       7.000000       0.334684  1.785000e+03   \n",
       "50%      1604.000000      21.000000       0.336628  2.882000e+03   \n",
       "75%      2345.000000      44.000000       0.369894  7.749000e+03   \n",
       "max      3147.000000     161.000000       0.573793  1.975803e+06   \n",
       "\n",
       "              seIAT        meanExp          nExp          seExp  \n",
       "count  1.458650e+05  145865.000000  1.458650e+05  145865.000000  \n",
       "mean   6.310849e-04       0.452026  2.044023e+04       0.002994  \n",
       "std    4.735857e-03       0.217469  1.306157e+05       0.019723  \n",
       "min    2.235373e-07      -1.375000  2.000000e+00       0.000001  \n",
       "25%    5.454025e-05       0.336101  1.897000e+03       0.000225  \n",
       "50%    1.508847e-04       0.356446  3.011000e+03       0.000586  \n",
       "75%    2.294896e-04       0.588297  7.974000e+03       0.001002  \n",
       "max    2.862871e-01       1.800000  2.029548e+06       1.060660  "
      ]
     },
     "execution_count": 364,
     "metadata": {},
     "output_type": "execute_result"
    }
   ],
   "source": [
    "data.describe()"
   ]
  },
  {
   "cell_type": "code",
   "execution_count": 365,
   "metadata": {},
   "outputs": [],
   "source": [
    "data = data.dropna()"
   ]
  },
  {
   "cell_type": "code",
   "execution_count": 366,
   "metadata": {},
   "outputs": [
    {
     "data": {
      "text/plain": [
       "Index(['playerShort', 'player', 'club', 'leagueCountry', 'birthday', 'height',\n",
       "       'weight', 'position', 'games', 'victories', 'ties', 'defeats', 'goals',\n",
       "       'yellowCards', 'yellowReds', 'redCards', 'photoID', 'rater1', 'rater2',\n",
       "       'refNum', 'refCountry', 'Alpha_3', 'meanIAT', 'nIAT', 'seIAT',\n",
       "       'meanExp', 'nExp', 'seExp'],\n",
       "      dtype='object')"
      ]
     },
     "execution_count": 366,
     "metadata": {},
     "output_type": "execute_result"
    }
   ],
   "source": [
    "data.columns"
   ]
  },
  {
   "cell_type": "markdown",
   "metadata": {},
   "source": [
    "# Are Referees Racist?\n",
    "\n",
    "To begin the analysis, the first pass was to evaluate if on average referees were more likely to give red cards to players based on their average skin-tone."
   ]
  },
  {
   "cell_type": "code",
   "execution_count": 368,
   "metadata": {},
   "outputs": [
    {
     "name": "stdout",
     "output_type": "stream",
     "text": [
      "5-Point ranking for player skin tone.\n",
      "\n",
      "White Players: 0.0, POC Players: 1.0\n",
      "['0.00', '0.25', '0.50', '0.75', '1.00']\n"
     ]
    }
   ],
   "source": [
    "print(\"5-Point ranking for player skin tone.\")\n",
    "print()\n",
    "print(\"White Players: {:0.1f}, POC Players: {:0.1f}\".format(data['rater1'].min(), data['rater1'].max()))\n",
    "\n",
    "skin_tones = data['rater1'].unique()\n",
    "skin_tones.sort()\n",
    "skin_tones = np.array(skin_tones)\n",
    "print([\"{:0.2f}\".format(skin) for skin in skin_tones])"
   ]
  },
  {
   "cell_type": "markdown",
   "metadata": {},
   "source": [
    "The likelihood of skin tone ranking between the two individual rating is shown below."
   ]
  },
  {
   "cell_type": "code",
   "execution_count": 369,
   "metadata": {},
   "outputs": [
    {
     "data": {
      "image/png": "[encoded data removed]",
      "text/plain": [
       "<matplotlib.figure.Figure at 0x126e2a630>"
      ]
     },
     "metadata": {},
     "output_type": "display_data"
    }
   ],
   "source": [
    "rater1_dist = stats.gaussian_kde(data['rater1'])\n",
    "rater2_dist = stats.gaussian_kde(data['rater2'])\n",
    "rating = np.linspace(0, 1, 100)\n",
    "\n",
    "plt.figure(figsize=(8, 5))\n",
    "plt.plot(rating, rater1_dist.pdf(rating), linewidth=3, alpha=0.5, label='Rater 1')\n",
    "plt.plot(rating, rater2_dist.pdf(rating), linewidth=3, alpha=0.5, label='Rater 2')\n",
    "\n",
    "color = plt.cm.gray_r(np.linspace(0, 1, 5))\n",
    "for i, skin_tone in enumerate(skin_tones):\n",
    "    vmax = max([rater1_dist.pdf(skin_tone), rater2_dist.pdf(skin_tone)])\n",
    "    plt.text(skin_tone + 0.01, vmax + 0.05, 'Skin Tone', color=color[i])\n",
    "    plt.vlines(skin_tone, 0, vmax, color='k', linestyle='--', alpha=0.25)\n",
    "    \n",
    "plt.title('Probability Density of Skin Tone Ranking by Rater')\n",
    "plt.xlabel('5 Point Skin Tone Ranking')\n",
    "plt.xticks(skin_tones, [\"{:0.2f}\".format(skin) for skin in skin_tones], fontsize=12)\n",
    "plt.ylabel('Probability Density')\n",
    "plt.legend()\n",
    "plt.show()"
   ]
  },
  {
   "cell_type": "code",
   "execution_count": 580,
   "metadata": {},
   "outputs": [],
   "source": [
    "rater1_count_mean = data.groupby('rater1').mean()['redCards']\n",
    "rater2_count_mean = data.groupby('rater2').mean()['redCards']"
   ]
  },
  {
   "cell_type": "code",
   "execution_count": 581,
   "metadata": {},
   "outputs": [
    {
     "name": "stdout",
     "output_type": "stream",
     "text": [
      "rater1\n",
      "0.00    0.011458\n",
      "0.25    0.013587\n",
      "0.50    0.013428\n",
      "0.75    0.013770\n",
      "1.00    0.014781\n",
      "Name: redCards, dtype: float64\n",
      "rater2\n",
      "0.00    0.011188\n",
      "0.25    0.013283\n",
      "0.50    0.014229\n",
      "0.75    0.012742\n",
      "1.00    0.014168\n",
      "Name: redCards, dtype: float64\n"
     ]
    }
   ],
   "source": [
    "print(rater1_count_mean)\n",
    "print(rater2_count_mean)"
   ]
  },
  {
   "cell_type": "code",
   "execution_count": 370,
   "metadata": {},
   "outputs": [],
   "source": [
    "data['skin_tone_mean'] = data[['rater1', 'rater2']].mean(1)\n",
    "data['skin_tone_std'] = data[['rater1', 'rater2']].std(1)"
   ]
  },
  {
   "cell_type": "code",
   "execution_count": 371,
   "metadata": {},
   "outputs": [
    {
     "data": {
      "text/html": [
       "<div>\n",
       "<style scoped>\n",
       "    .dataframe tbody tr th:only-of-type {\n",
       "        vertical-align: middle;\n",
       "    }\n",
       "\n",
       "    .dataframe tbody tr th {\n",
       "        vertical-align: top;\n",
       "    }\n",
       "\n",
       "    .dataframe thead th {\n",
       "        text-align: right;\n",
       "    }\n",
       "</style>\n",
       "<table border=\"1\" class=\"dataframe\">\n",
       "  <thead>\n",
       "    <tr style=\"text-align: right;\">\n",
       "      <th></th>\n",
       "      <th>rater1</th>\n",
       "      <th>rater2</th>\n",
       "      <th>skin_tone_mean</th>\n",
       "      <th>skin_tone_std</th>\n",
       "    </tr>\n",
       "  </thead>\n",
       "  <tbody>\n",
       "    <tr>\n",
       "      <th>count</th>\n",
       "      <td>115457.000000</td>\n",
       "      <td>115457.000000</td>\n",
       "      <td>115457.000000</td>\n",
       "      <td>115457.000000</td>\n",
       "    </tr>\n",
       "    <tr>\n",
       "      <th>mean</th>\n",
       "      <td>0.261946</td>\n",
       "      <td>0.300796</td>\n",
       "      <td>0.281371</td>\n",
       "      <td>0.041732</td>\n",
       "    </tr>\n",
       "    <tr>\n",
       "      <th>std</th>\n",
       "      <td>0.294666</td>\n",
       "      <td>0.291061</td>\n",
       "      <td>0.287083</td>\n",
       "      <td>0.075660</td>\n",
       "    </tr>\n",
       "    <tr>\n",
       "      <th>min</th>\n",
       "      <td>0.000000</td>\n",
       "      <td>0.000000</td>\n",
       "      <td>0.000000</td>\n",
       "      <td>0.000000</td>\n",
       "    </tr>\n",
       "    <tr>\n",
       "      <th>25%</th>\n",
       "      <td>0.000000</td>\n",
       "      <td>0.000000</td>\n",
       "      <td>0.000000</td>\n",
       "      <td>0.000000</td>\n",
       "    </tr>\n",
       "    <tr>\n",
       "      <th>50%</th>\n",
       "      <td>0.250000</td>\n",
       "      <td>0.250000</td>\n",
       "      <td>0.250000</td>\n",
       "      <td>0.000000</td>\n",
       "    </tr>\n",
       "    <tr>\n",
       "      <th>75%</th>\n",
       "      <td>0.250000</td>\n",
       "      <td>0.500000</td>\n",
       "      <td>0.375000</td>\n",
       "      <td>0.000000</td>\n",
       "    </tr>\n",
       "    <tr>\n",
       "      <th>max</th>\n",
       "      <td>1.000000</td>\n",
       "      <td>1.000000</td>\n",
       "      <td>1.000000</td>\n",
       "      <td>0.353553</td>\n",
       "    </tr>\n",
       "  </tbody>\n",
       "</table>\n",
       "</div>"
      ],
      "text/plain": [
       "              rater1         rater2  skin_tone_mean  skin_tone_std\n",
       "count  115457.000000  115457.000000   115457.000000  115457.000000\n",
       "mean        0.261946       0.300796        0.281371       0.041732\n",
       "std         0.294666       0.291061        0.287083       0.075660\n",
       "min         0.000000       0.000000        0.000000       0.000000\n",
       "25%         0.000000       0.000000        0.000000       0.000000\n",
       "50%         0.250000       0.250000        0.250000       0.000000\n",
       "75%         0.250000       0.500000        0.375000       0.000000\n",
       "max         1.000000       1.000000        1.000000       0.353553"
      ]
     },
     "execution_count": 371,
     "metadata": {},
     "output_type": "execute_result"
    }
   ],
   "source": [
    "data[['rater1', 'rater2', 'skin_tone_mean', 'skin_tone_std']].describe()"
   ]
  },
  {
   "cell_type": "markdown",
   "metadata": {},
   "source": [
    "# Grouping Players by Skin Tone and Number of Cards"
   ]
  },
  {
   "cell_type": "code",
   "execution_count": 372,
   "metadata": {},
   "outputs": [],
   "source": [
    "yellowCards_by_player = data.groupby(['playerShort', 'rater1', 'rater2']).sum()[['yellowCards']]\n",
    "yellowCards_by_player = yellowCards_by_player.reset_index(level=['playerShort', 'rater1', 'rater2'])\n",
    "\n",
    "yellowReds_by_player = data.groupby(['playerShort', 'rater1', 'rater2']).sum()[['yellowReds']]\n",
    "yellowReds_by_player = yellowReds_by_player.reset_index(level=['playerShort', 'rater1', 'rater2'])\n",
    "\n",
    "redCards_by_player = data.groupby(['playerShort', 'rater1', 'rater2']).sum()[['redCards']]\n",
    "redCards_by_player = redCards_by_player.reset_index(level=['playerShort', 'rater1', 'rater2'])"
   ]
  },
  {
   "cell_type": "code",
   "execution_count": 373,
   "metadata": {},
   "outputs": [
    {
     "data": {
      "text/html": [
       "<div>\n",
       "<style scoped>\n",
       "    .dataframe tbody tr th:only-of-type {\n",
       "        vertical-align: middle;\n",
       "    }\n",
       "\n",
       "    .dataframe tbody tr th {\n",
       "        vertical-align: top;\n",
       "    }\n",
       "\n",
       "    .dataframe thead th {\n",
       "        text-align: right;\n",
       "    }\n",
       "</style>\n",
       "<table border=\"1\" class=\"dataframe\">\n",
       "  <thead>\n",
       "    <tr style=\"text-align: right;\">\n",
       "      <th></th>\n",
       "      <th>playerShort</th>\n",
       "      <th>rater1</th>\n",
       "      <th>rater2</th>\n",
       "      <th>redCards</th>\n",
       "    </tr>\n",
       "  </thead>\n",
       "  <tbody>\n",
       "    <tr>\n",
       "      <th>0</th>\n",
       "      <td>aaron-hughes</td>\n",
       "      <td>0.25</td>\n",
       "      <td>0.00</td>\n",
       "      <td>0</td>\n",
       "    </tr>\n",
       "    <tr>\n",
       "      <th>1</th>\n",
       "      <td>aaron-hunt</td>\n",
       "      <td>0.00</td>\n",
       "      <td>0.25</td>\n",
       "      <td>1</td>\n",
       "    </tr>\n",
       "    <tr>\n",
       "      <th>2</th>\n",
       "      <td>aaron-lennon</td>\n",
       "      <td>0.25</td>\n",
       "      <td>0.25</td>\n",
       "      <td>0</td>\n",
       "    </tr>\n",
       "    <tr>\n",
       "      <th>3</th>\n",
       "      <td>aaron-ramsey</td>\n",
       "      <td>0.00</td>\n",
       "      <td>0.00</td>\n",
       "      <td>1</td>\n",
       "    </tr>\n",
       "    <tr>\n",
       "      <th>4</th>\n",
       "      <td>abdelhamid-el-kaoutari</td>\n",
       "      <td>0.25</td>\n",
       "      <td>0.25</td>\n",
       "      <td>2</td>\n",
       "    </tr>\n",
       "  </tbody>\n",
       "</table>\n",
       "</div>"
      ],
      "text/plain": [
       "              playerShort  rater1  rater2  redCards\n",
       "0            aaron-hughes    0.25    0.00         0\n",
       "1              aaron-hunt    0.00    0.25         1\n",
       "2            aaron-lennon    0.25    0.25         0\n",
       "3            aaron-ramsey    0.00    0.00         1\n",
       "4  abdelhamid-el-kaoutari    0.25    0.25         2"
      ]
     },
     "execution_count": 373,
     "metadata": {},
     "output_type": "execute_result"
    }
   ],
   "source": [
    "redCards_by_player.head()"
   ]
  },
  {
   "cell_type": "code",
   "execution_count": 374,
   "metadata": {},
   "outputs": [
    {
     "data": {
      "image/png": "[encoded data removed]",
      "text/plain": [
       "<matplotlib.figure.Figure at 0x11a7dd898>"
      ]
     },
     "metadata": {},
     "output_type": "display_data"
    }
   ],
   "source": [
    "ratio_yellowCards_rater1 = yellowCards_by_player.groupby('rater1').sum()['yellowCards'] / yellowCards_by_player.groupby('rater1').nunique()['playerShort']\n",
    "ratio_yellowCards_rater2 = yellowCards_by_player.groupby('rater2').sum()['yellowCards'] / yellowCards_by_player.groupby('rater2').nunique()['playerShort']\n",
    "\n",
    "plt.figure(figsize=(8, 5))\n",
    "plt.bar(skin_tones, ratio_yellowCards_rater1 / ratio_yellowCards_rater1.sum(), width=0.05, alpha=0.75, align='edge', label='Rater 1')\n",
    "plt.bar(skin_tones + 0.05, ratio_yellowCards_rater2 / ratio_yellowCards_rater2.sum(), width=0.05, alpha=0.75, align='edge', label='Rater 2')\n",
    "\n",
    "plt.title('Ratio of Number of Yellow Cards by Total Unique Players Skin Tones')\n",
    "plt.xlabel('5 Point Skin Tone Ranking')\n",
    "plt.xticks(skin_tones, [\"{:0.2f}\".format(skin) for skin in skin_tones], fontsize=12)\n",
    "plt.ylabel('Ratio')\n",
    "plt.legend()\n",
    "plt.show()"
   ]
  },
  {
   "cell_type": "code",
   "execution_count": 375,
   "metadata": {},
   "outputs": [
    {
     "data": {
      "image/png": "[encoded data removed]",
      "text/plain": [
       "<matplotlib.figure.Figure at 0x127a89940>"
      ]
     },
     "metadata": {},
     "output_type": "display_data"
    }
   ],
   "source": [
    "ratio_yellowReds_rater1 = yellowReds_by_player.groupby('rater1').sum()['yellowReds'] / yellowReds_by_player.groupby('rater1').nunique()['playerShort']\n",
    "ratio_yellowReds_rater2 = yellowReds_by_player.groupby('rater2').sum()['yellowReds'] / yellowReds_by_player.groupby('rater2').nunique()['playerShort']\n",
    "\n",
    "plt.figure(figsize=(8, 5))\n",
    "plt.bar(skin_tones, ratio_yellowReds_rater1 / ratio_yellowReds_rater1.sum(), width=0.05, alpha=0.75, align='edge', label='Rater 1')\n",
    "plt.bar(skin_tones + 0.05, ratio_yellowReds_rater2 / ratio_yellowReds_rater2.sum(), width=0.05, alpha=0.75, align='edge', label='Rater 2')\n",
    "\n",
    "plt.title('Ratio of Number of Yellow and Red Cards by Total Unique Players Skin Tones')\n",
    "plt.xlabel('5 Point Skin Tone Ranking')\n",
    "plt.xticks(skin_tones, [\"{:0.2f}\".format(skin) for skin in skin_tones], fontsize=12)\n",
    "plt.ylabel('Ratio')\n",
    "plt.legend()\n",
    "plt.show()"
   ]
  },
  {
   "cell_type": "code",
   "execution_count": 376,
   "metadata": {},
   "outputs": [
    {
     "data": {
      "image/png": "[encoded data removed]",
      "text/plain": [
       "<matplotlib.figure.Figure at 0x126e4aa20>"
      ]
     },
     "metadata": {},
     "output_type": "display_data"
    }
   ],
   "source": [
    "ratio_redCards_rater1 = redCards_by_player.groupby('rater1').sum()['redCards'] / redCards_by_player.groupby('rater1').nunique()['playerShort']\n",
    "ratio_redCards_rater2 = redCards_by_player.groupby('rater2').sum()['redCards'] / redCards_by_player.groupby('rater2').nunique()['playerShort']\n",
    "\n",
    "plt.figure(figsize=(8, 5))\n",
    "plt.bar(skin_tones, ratio_redCards_rater1 / ratio_redCards_rater1.sum(), width=0.05, alpha=0.75, align='edge', label='Rater 1')\n",
    "plt.bar(skin_tones + 0.05, ratio_redCards_rater2 / ratio_redCards_rater2.sum(), width=0.05, alpha=0.75, align='edge', label='Rater 2')\n",
    "\n",
    "plt.title('Ratio of Number of Red Cards by Total Unique Players Skin Tones')\n",
    "plt.xlabel('5 Point Skin Tone Ranking')\n",
    "plt.xticks(skin_tones, [\"{:0.2f}\".format(skin) for skin in skin_tones], fontsize=12)\n",
    "plt.ylabel('Ratio')\n",
    "plt.legend()\n",
    "plt.show()"
   ]
  },
  {
   "cell_type": "markdown",
   "metadata": {},
   "source": [
    "# ANOVA \n",
    "\n",
    "Let's compare if there is a statistical difference between the variances in in skin-tone for yellow, yellow-red, and red cards distributed during all games."
   ]
  },
  {
   "cell_type": "markdown",
   "metadata": {},
   "source": [
    "### Yellow Cards"
   ]
  },
  {
   "cell_type": "code",
   "execution_count": 377,
   "metadata": {},
   "outputs": [
    {
     "name": "stdout",
     "output_type": "stream",
     "text": [
      "alpha: 5.0000e-02\n",
      "Rater 1: 2.1994e-02, Rater 2: 7.5005e-04\n"
     ]
    }
   ],
   "source": [
    "pval_rater1 = stats.f_oneway(*[yellowCards_by_player['yellowCards'][yellowCards_by_player['rater1'] == skin_tone].as_matrix() for skin_tone in skin_tones])[1]\n",
    "pval_rater2 = stats.f_oneway(*[yellowCards_by_player['yellowCards'][yellowCards_by_player['rater2'] == skin_tone].as_matrix() for skin_tone in skin_tones])[1]\n",
    "\n",
    "print(\"alpha: {:0.4e}\".format(0.05))\n",
    "print(\"Rater 1: {:0.4e}, Rater 2: {:0.4e}\".format(pval_rater1, pval_rater2))"
   ]
  },
  {
   "cell_type": "markdown",
   "metadata": {},
   "source": [
    "### Yellow-Red Cards"
   ]
  },
  {
   "cell_type": "code",
   "execution_count": 378,
   "metadata": {},
   "outputs": [
    {
     "name": "stdout",
     "output_type": "stream",
     "text": [
      "alpha: 5.0000e-02\n",
      "Rater 1: 1.9530e-01, Rater 2: 3.1826e-01\n"
     ]
    }
   ],
   "source": [
    "pval_rater1 = stats.f_oneway(*[yellowReds_by_player['yellowReds'][yellowReds_by_player['rater1'] == skin_tone].as_matrix() for skin_tone in skin_tones])[1]\n",
    "pval_rater2 = stats.f_oneway(*[yellowReds_by_player['yellowReds'][yellowReds_by_player['rater2'] == skin_tone].as_matrix() for skin_tone in skin_tones])[1]\n",
    "\n",
    "print(\"alpha: {:0.4e}\".format(0.05))\n",
    "print(\"Rater 1: {:0.4e}, Rater 2: {:0.4e}\".format(pval_rater1, pval_rater2))"
   ]
  },
  {
   "cell_type": "markdown",
   "metadata": {},
   "source": [
    "### Red Cards"
   ]
  },
  {
   "cell_type": "code",
   "execution_count": 379,
   "metadata": {},
   "outputs": [
    {
     "name": "stdout",
     "output_type": "stream",
     "text": [
      "alpha: 5.0000e-02\n",
      "Rater 1: 9.2679e-02, Rater 2: 1.6566e-01\n"
     ]
    }
   ],
   "source": [
    "pval_rater1 = stats.f_oneway(*[redCards_by_player['redCards'][redCards_by_player['rater1'] == skin_tone].as_matrix() for skin_tone in skin_tones])[1]\n",
    "pval_rater2 = stats.f_oneway(*[redCards_by_player['redCards'][redCards_by_player['rater2'] == skin_tone].as_matrix() for skin_tone in skin_tones])[1]\n",
    "\n",
    "print(\"alpha: {:0.4e}\".format(0.05))\n",
    "print(\"Rater 1: {:0.4e}, Rater 2: {:0.4e}\".format(pval_rater1, pval_rater2))"
   ]
  },
  {
   "cell_type": "markdown",
   "metadata": {},
   "source": [
    "# One Sided T-Test Between Skin Tone Extrema\n",
    "\n",
    "One drawback to performing ANOVA in this study, is that that it cannot separate bias from the skin-tone rater. As was shown earlier, the perception of skin-tone is biased towards the rater. Notice that rater 1 and 2 had differences in rating players for all skin-tones.\n",
    "\n",
    "Here statistical significance is tested for each rater between skin tones 0.0 and 1.0."
   ]
  },
  {
   "cell_type": "markdown",
   "metadata": {},
   "source": [
    "### Yellow Cards"
   ]
  },
  {
   "cell_type": "code",
   "execution_count": 385,
   "metadata": {},
   "outputs": [
    {
     "name": "stdout",
     "output_type": "stream",
     "text": [
      "alpha: 5.0000e-02\n",
      "Rater 1: 3.2375e-01, Rater 2: 4.1559e-01\n"
     ]
    }
   ],
   "source": [
    "pval_rater1 = stats.ttest_ind(*[yellowCards_by_player['yellowCards'][yellowCards_by_player['rater1'] == skin_tone].as_matrix() for skin_tone in [0.0, 1.0]])[1] / 2\n",
    "pval_rater2 = stats.ttest_ind(*[yellowCards_by_player['yellowCards'][yellowCards_by_player['rater2'] == skin_tone].as_matrix() for skin_tone in [0.0, 1.0]])[1] / 2\n",
    "\n",
    "print(\"alpha: {:0.4e}\".format(0.05))\n",
    "print(\"Rater 1: {:0.4e}, Rater 2: {:0.4e}\".format(pval_rater1, pval_rater2))"
   ]
  },
  {
   "cell_type": "markdown",
   "metadata": {},
   "source": [
    "### Yellow-Red Cards"
   ]
  },
  {
   "cell_type": "code",
   "execution_count": 384,
   "metadata": {},
   "outputs": [
    {
     "name": "stdout",
     "output_type": "stream",
     "text": [
      "alpha: 5.0000e-02\n",
      "Rater 1: 4.8832e-02, Rater 2: 1.2419e-01\n"
     ]
    }
   ],
   "source": [
    "pval_rater1 = stats.ttest_ind(*[yellowReds_by_player['yellowReds'][yellowReds_by_player['rater1'] == skin_tone].as_matrix() for skin_tone in [0.0, 1.0]])[1] / 2\n",
    "pval_rater2 = stats.ttest_ind(*[yellowReds_by_player['yellowReds'][yellowReds_by_player['rater2'] == skin_tone].as_matrix() for skin_tone in [0.0, 1.0]])[1] / 2\n",
    "\n",
    "print(\"alpha: {:0.4e}\".format(0.05))\n",
    "print(\"Rater 1: {:0.4e}, Rater 2: {:0.4e}\".format(pval_rater1, pval_rater2))"
   ]
  },
  {
   "cell_type": "markdown",
   "metadata": {},
   "source": [
    "### Red Cards"
   ]
  },
  {
   "cell_type": "code",
   "execution_count": 383,
   "metadata": {},
   "outputs": [
    {
     "name": "stdout",
     "output_type": "stream",
     "text": [
      "alpha: 5.0000e-02\n",
      "Rater 1: 1.3502e-02, Rater 2: 3.9515e-02\n"
     ]
    }
   ],
   "source": [
    "pval_rater1 = stats.ttest_ind(*[redCards_by_player['redCards'][redCards_by_player['rater1'] == skin_tone].as_matrix() for skin_tone in [0.0, 1.0]])[1] / 2\n",
    "pval_rater2 = stats.ttest_ind(*[redCards_by_player['redCards'][redCards_by_player['rater2'] == skin_tone].as_matrix() for skin_tone in [0.0, 1.0]])[1] / 2\n",
    "\n",
    "print(\"alpha: {:0.4e}\".format(0.05))\n",
    "print(\"Rater 1: {:0.4e}, Rater 2: {:0.4e}\".format(pval_rater1, pval_rater2))"
   ]
  },
  {
   "cell_type": "code",
   "execution_count": 386,
   "metadata": {},
   "outputs": [],
   "source": [
    "redCards_by_ref = data.groupby(['playerShort', 'refNum', 'rater1', 'rater2']).sum()[['redCards']]\n",
    "redCards_by_ref = redCards_by_ref.reset_index(level=['playerShort', 'refNum', 'rater1', 'rater2'])"
   ]
  },
  {
   "cell_type": "code",
   "execution_count": 428,
   "metadata": {},
   "outputs": [
    {
     "name": "stderr",
     "output_type": "stream",
     "text": [
      "/Users/pablo/.conda/envs/Insight/lib/python3.6/site-packages/numpy/core/fromnumeric.py:3146: RuntimeWarning: Degrees of freedom <= 0 for slice\n",
      "  **kwargs)\n",
      "/Users/pablo/.conda/envs/Insight/lib/python3.6/site-packages/numpy/core/_methods.py:127: RuntimeWarning: invalid value encountered in double_scalars\n",
      "  ret = ret.dtype.type(ret / rcount)\n"
     ]
    },
    {
     "name": "stdout",
     "output_type": "stream",
     "text": [
      "alpha: 5.0000e-02\n",
      "Rater 1: 2.5470e-01, Rater 2: 2.4560e-01\n"
     ]
    }
   ],
   "source": [
    "pval = np.zeros((redCards_by_ref['refNum'].unique().shape[0], 2))\n",
    "for i, refNum in enumerate(redCards_by_ref['refNum'].unique()):\n",
    "    pval[i, 0] = stats.ttest_ind(*[redCards_by_ref['redCards'][np.logical_and(redCards_by_ref['refNum'] == refNum, redCards_by_ref['rater1'] == skin_tone)].as_matrix() for skin_tone in [0.0, 1.0]])[1] / 2\n",
    "    pval[i, 1] = stats.ttest_ind(*[redCards_by_ref['redCards'][np.logical_and(redCards_by_ref['refNum'] == refNum, redCards_by_ref['rater2'] == skin_tone)].as_matrix() for skin_tone in [0.0, 1.0]])[1] / 2\n",
    "\n",
    "print(\"alpha: {:0.4e}\".format(0.05))\n",
    "print(\"Rater 1: {:0.4e}, Rater 2: {:0.4e}\".format(*pval[np.sum(np.isnan(pval), 1) == 0, :].mean(0)))"
   ]
  },
  {
   "cell_type": "code",
   "execution_count": 527,
   "metadata": {},
   "outputs": [
    {
     "data": {
      "image/png": "[encoded data removed]",
      "text/plain": [
       "<matplotlib.figure.Figure at 0x1273fae48>"
      ]
     },
     "metadata": {},
     "output_type": "display_data"
    }
   ],
   "source": [
    "# Define p-values Normal distributions\n",
    "alpha = 0.05\n",
    "color=plt.cm.coolwarm(np.linspace(0, 1, 7))\n",
    "mu1, sigma1 = pval[np.sum(np.isnan(pval), 1) == 0, 0].mean(), pval[np.sum(np.isnan(pval), 1) == 0, 0].std()\n",
    "mu2, sigma2 = pval[np.sum(np.isnan(pval), 1) == 0, 1].mean(), pval[np.sum(np.isnan(pval), 1) == 0, 1].std()\n",
    "\n",
    "N1 = stats.norm(mu1, sigma1)\n",
    "N2 = stats.norm(mu2, sigma2)\n",
    "\n",
    "# Define range of p-valuess\n",
    "pval_range = np.linspace(0, np.amax(pval[np.sum(np.isnan(pval), 1) == 0].max()), 100)\n",
    "\n",
    "# Define p-value quartiles\n",
    "pval_mid_range1 = np.linspace(N1.ppf(0.25), N1.ppf(0.75), 100)\n",
    "pval_mid_range2 = np.linspace(N2.ppf(0.25), N2.ppf(0.75), 100)\n",
    "\n",
    "# Create grid for subplots\n",
    "plt.figure(figsize=(10, 5))\n",
    "ax1 = plt.subplot2grid((3, 5), (0, 0), rowspan=3, colspan=4)\n",
    "ax2 = plt.subplot2grid((3, 5), (0, 4), rowspan=3, colspan=1)\n",
    "\n",
    "### Subplot 1\n",
    "# Plot raw p-values\n",
    "ax1.plot(redCards_by_ref['refNum'].unique(), pval[:, 0], '.', color=color[1], alpha=0.15)\n",
    "ax1.plot(redCards_by_ref['refNum'].unique(), pval[:, 1], '.', color=color[5], alpha=0.15)\n",
    "\n",
    "# Plot significant p-values\n",
    "ax1.plot(redCards_by_ref['refNum'].unique()[pval[:, 0] < alpha], pval[pval[:, 0] < alpha, 0], '.', color=color[1])\n",
    "ax1.plot(redCards_by_ref['refNum'].unique()[pval[:, 1] < alpha], pval[pval[:, 1] < alpha, 1], '.', color=color[5])\n",
    "\n",
    "# Fill quartiles\n",
    "ax1.fill_betweenx(pval_mid_range1, 0, np.amax(redCards_by_ref['refNum'].unique()), color=color[1], alpha=0.1)\n",
    "ax1.fill_betweenx(pval_mid_range2, 0, np.amax(redCards_by_ref['refNum'].unique()), color=color[5], alpha=0.1)\n",
    "\n",
    "# Draw mean markers and alpha level\n",
    "ax1.hlines(alpha, 0, np.amax(redCards_by_ref['refNum'].unique()), linestyle='--')\n",
    "ax1.hlines(mu1, 0, np.amax(redCards_by_ref['refNum'].unique()), linestyle='--', color=color[1])\n",
    "ax1.hlines(mu2, 0, np.amax(redCards_by_ref['refNum'].unique()), linestyle='--', color=color[5])\n",
    "ax1.set_xlabel('Referee ID')\n",
    "ax1.set_ylabel('P-Value')\n",
    "\n",
    "### Subplot 2\n",
    "# Plot distributions\n",
    "ax2.plot(N1.pdf(pval_range), pval_range, color=color[1])\n",
    "ax2.plot(N2.pdf(pval_range), pval_range, color=color[5])\n",
    "\n",
    "# Fill quartiles\n",
    "ax2.fill_betweenx(pval_mid_range1, np.zeros(len(pval_range)), N1.pdf(pval_mid_range1), color=color[1], alpha=0.1)\n",
    "ax2.fill_betweenx(pval_mid_range2, np.zeros(len(pval_range)), N2.pdf(pval_mid_range2), color=color[5], alpha=0.1)\n",
    "\n",
    "# Draw mean markers and alpha level\n",
    "ax2.hlines(alpha, 0, np.amax([N1.pdf(mu1), N2.pdf(mu2)]), linestyle='--', color='k')\n",
    "ax2.hlines(mu1, 0, N1.pdf(mu1), linestyle='--', color=color[1])\n",
    "ax2.hlines(mu2, 0, N2.pdf(mu2), linestyle='--', color=color[5])\n",
    "\n",
    "# Hide labels\n",
    "ax2.get_xaxis().set_visible(False)\n",
    "ax2.get_yaxis().set_visible(False)\n",
    "plt.show()"
   ]
  },
  {
   "cell_type": "code",
   "execution_count": 469,
   "metadata": {},
   "outputs": [
    {
     "name": "stdout",
     "output_type": "stream",
     "text": [
      "\n",
      "1.00% of referees are racist by defintion of Rater 1.\n",
      "\n"
     ]
    }
   ],
   "source": [
    "print(\"\"\"\n",
    "{:0.2f}% of referees are racist by defintion of Rater 1.\n",
    "\"\"\".format(100 * len(redCards_by_ref['refNum'].unique()[pval[:, 0] < alpha]) / (redCards_by_ref['refNum'].unique().shape[0])))"
   ]
  },
  {
   "cell_type": "code",
   "execution_count": 468,
   "metadata": {},
   "outputs": [
    {
     "name": "stdout",
     "output_type": "stream",
     "text": [
      "\n",
      "0.76% of referees are racist by defintion of Rater 2.\n",
      "\n"
     ]
    }
   ],
   "source": [
    "print(\"\"\"\n",
    "{:0.2f}% of referees are racist by defintion of Rater 2.\n",
    "\"\"\".format(100 * len(redCards_by_ref['refNum'].unique()[pval[:, 1] < alpha]) / (redCards_by_ref['refNum'].unique().shape[0])))"
   ]
  },
  {
   "cell_type": "code",
   "execution_count": 457,
   "metadata": {},
   "outputs": [
    {
     "name": "stdout",
     "output_type": "stream",
     "text": [
      "\n",
      "54.55% of racist referees overlap when comparing between both skin-tone ratings.\n",
      "\n"
     ]
    }
   ],
   "source": [
    "print(\"\"\"\n",
    "{:0.2f}% of racist referees overlap when comparing between both skin-tone ratings.\n",
    "\"\"\".format(100 * len(set(redCards_by_ref['refNum'].unique()[pval[:, 0] < alpha]).intersection(set(redCards_by_ref['refNum'].unique()[pval[:, 1] < alpha]))) / len(set(redCards_by_ref['refNum'].unique()[pval[:, 0] < alpha]).union(set(redCards_by_ref['refNum'].unique()[pval[:, 1] < alpha])))))"
   ]
  },
  {
   "cell_type": "markdown",
   "metadata": {},
   "source": [
    "# Conclusions\n",
    "\n",
    "A little bit! There is some statistically signifanct difference in the number of red cards given to dark-skinned players when compared to light-skinned players. This significance however varies when the relative assignment of skin-tone is varied from one \"*rater*\" to another.\n",
    "\n",
    "When however each referee is evaluated on their sole assignment of red-cards by skin-tone, there are clear issues with biased officals."
   ]
  },
  {
   "cell_type": "code",
   "execution_count": null,
   "metadata": {},
   "outputs": [],
   "source": []
  }
 ],
 "metadata": {
  "kernelspec": {
   "display_name": "Insight (Python 3.6)",
   "language": "python",
   "name": "insight"
  },
  "language_info": {
   "codemirror_mode": {
    "name": "ipython",
    "version": 3
   },
   "file_extension": ".py",
   "mimetype": "text/x-python",
   "name": "python",
   "nbconvert_exporter": "python",
   "pygments_lexer": "ipython3",
   "version": "3.6.3"
  }
 },
 "nbformat": 4,
 "nbformat_minor": 2
}
